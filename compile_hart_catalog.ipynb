{
  "cells": [
    {
      "cell_type": "markdown",
      "source": [
        "# Make Hart (2017) table\n",
        "\n",
        "https://data.galaxyzoo.org/\n",
        "\n",
        "http://www.nsatlas.org/data"
      ],
      "metadata": {}
    },
    {
      "cell_type": "code",
      "source": [
        "%load_ext autoreload\n",
        "%autoreload 2"
      ],
      "outputs": [],
      "execution_count": 1,
      "metadata": {
        "collapsed": false,
        "outputHidden": false,
        "inputHidden": false
      }
    },
    {
      "cell_type": "code",
      "source": [
        "import numpy as np\n",
        "import sdssCutoutGrab as scg     \n",
        "import pandas as pd\n",
        "from astropy.io import fits\n",
        "from astropy.coordinates import SkyCoord\n",
        "from astropy import units as u\n",
        "from astropy.coordinates import match_coordinates_sky"
      ],
      "outputs": [],
      "execution_count": 2,
      "metadata": {
        "collapsed": false,
        "outputHidden": false,
        "inputHidden": false
      }
    },
    {
      "cell_type": "markdown",
      "source": [
        "Load in the required data files:\n",
        "- Ross' catalog\n",
        "- The NASA-Sloan Atlas (NSA)\n",
        "- The Debiased Galaxy Zoo 2 data export"
      ],
      "metadata": {}
    },
    {
      "cell_type": "code",
      "source": [
        "ROSS_CATALOGUE_LOC = '../../data_files/Hart2017/psi_table.csv'\n",
        "NSA_LOC = '../../data_files/nsa_v1_0_1.fits'\n",
        "GZ2_DATA_LOC = '../../data_files/gz2_hart16.fits.gz'"
      ],
      "outputs": [],
      "execution_count": 3,
      "metadata": {
        "collapsed": false,
        "outputHidden": false,
        "inputHidden": false,
        "tags": [
          "parameters"
        ]
      }
    },
    {
      "cell_type": "code",
      "source": [
        "hart_df = pd.read_csv(ROSS_CATALOGUE_LOC)"
      ],
      "outputs": [],
      "execution_count": 4,
      "metadata": {
        "collapsed": false,
        "outputHidden": false,
        "inputHidden": false
      }
    },
    {
      "cell_type": "code",
      "source": [
        "nsa_fits = fits.open(NSA_LOC)\n",
        "nsa_data = nsa_fits[1].data\n",
        "nsa_keys = (\n",
        "    'NSAID', 'ISDSS', 'INED', 'IAUNAME', # identifiers\n",
        "    'RA', 'DEC', 'Z', 'ZDIST', # position\n",
        "    'SERSIC_BA', 'SERSIC_PHI', # sersic photometry\n",
        "    'PETRO_THETA', # azimuthally averaged petrosean radius\n",
        "    'PETRO_BA90', 'PETRO_PHI90', # petrosean photometry at 90% light radius\n",
        "    'PETRO_BA50', 'PETRO_PHI50', # ... at 50% light radius\n",
        "    'RUN', 'CAMCOL', 'FIELD', 'RERUN',\n",
        "    'ELPETRO_MASS', 'SERSIC_MASS',\n",
        ")\n",
        "nsa_df = pd.DataFrame(\n",
        "    {k: nsa_data[k].byteswap().newbyteorder() for k in nsa_keys}\n",
        ")"
      ],
      "outputs": [],
      "execution_count": 5,
      "metadata": {
        "collapsed": false,
        "outputHidden": false,
        "inputHidden": false
      }
    },
    {
      "cell_type": "code",
      "source": [
        "gz2_fits = fits.open(GZ2_DATA_LOC)\n",
        "gz2_data = gz2_fits[1].data\n",
        "\n",
        "gz2_keys = [\n",
        "    'dr7objid', 'ra', 'dec', # to use for cross-referencing\n",
        "    't01_smooth_or_features_a02_features_or_disk_debiased',\n",
        "    't02_edgeon_a05_no_debiased',\n",
        "    't04_spiral_a08_spiral_debiased',\n",
        "    't11_arms_number_a31_1_flag',\n",
        "    't11_arms_number_a32_2_flag',\n",
        "    't11_arms_number_a33_3_flag',\n",
        "    't11_arms_number_a34_4_flag',\n",
        "    't11_arms_number_a36_more_than_4_flag',\n",
        "    't11_arms_number_a37_cant_tell_flag',\n",
        "]\n",
        "\n",
        "gz2_df = pd.DataFrame(gz2_data)[gz2_keys]\n",
        "\n",
        "# p_features * p_not_edge_on * p_spiral >= 0.5\n",
        "spiral_mask = gz2_df.eval(\n",
        "  't01_smooth_or_features_a02_features_or_disk_debiased \\\n",
        "    * t02_edgeon_a05_no_debiased \\\n",
        "    * t04_spiral_a08_spiral_debiased >= 0.5 \\\n",
        "')"
      ],
      "outputs": [],
      "execution_count": 6,
      "metadata": {
        "collapsed": false,
        "outputHidden": false,
        "inputHidden": false
      }
    },
    {
      "cell_type": "markdown",
      "source": [
        "Perform a Ra-Dec match between Ross' and the NSA"
      ],
      "metadata": {}
    },
    {
      "cell_type": "code",
      "source": [
        "nsa_df.columns"
      ],
      "outputs": [
        {
          "output_type": "execute_result",
          "execution_count": 7,
          "data": {
            "text/plain": [
              "Index(['NSAID', 'ISDSS', 'INED', 'IAUNAME', 'RA', 'DEC', 'Z', 'ZDIST',\n",
              "       'SERSIC_BA', 'SERSIC_PHI', 'PETRO_THETA', 'PETRO_BA90', 'PETRO_PHI90',\n",
              "       'PETRO_BA50', 'PETRO_PHI50', 'RUN', 'CAMCOL', 'FIELD', 'RERUN',\n",
              "       'ELPETRO_MASS', 'SERSIC_MASS'],\n",
              "      dtype='object')"
            ]
          },
          "metadata": {}
        }
      ],
      "execution_count": 7,
      "metadata": {
        "collapsed": false,
        "outputHidden": false,
        "inputHidden": false
      }
    },
    {
      "cell_type": "code",
      "source": [
        "hart_coords = SkyCoord(\n",
        "  ra=hart_df['ra']*u.degree,\n",
        "  dec=hart_df['dec']*u.degree\n",
        ")\n",
        "nsa_coords = SkyCoord(\n",
        "  ra=nsa_df['RA'].values*u.degree,\n",
        "  dec=nsa_df['DEC'].values*u.degree\n",
        ")\n",
        "nearest_idx, sep2d, d3d = match_coordinates_sky(hart_coords, nsa_coords)\n",
        "sep_mask = np.logical_not(sep2d > 0.01*u.degree)\n",
        "\n",
        "hart_matched_nsa = nsa_df.iloc[nearest_idx[sep_mask]]\n",
        "hart_matched_nsa.index = hart_df.index[sep_mask]"
      ],
      "outputs": [],
      "execution_count": 8,
      "metadata": {
        "collapsed": false,
        "outputHidden": false,
        "inputHidden": false
      }
    },
    {
      "cell_type": "markdown",
      "source": [
        "Performe a DR7OBJID match between Ross' and GZ2"
      ],
      "metadata": {}
    },
    {
      "cell_type": "code",
      "source": [
        "hart_matched_gz2 = gz2_df\\\n",
        "  .set_index('dr7objid')\\\n",
        "  .reindex(hart_df['dr7objid'])\\\n",
        "  .reset_index()\n",
        "hart_matched_gz2.index = hart_df.index"
      ],
      "outputs": [],
      "execution_count": 9,
      "metadata": {
        "collapsed": false,
        "outputHidden": false,
        "inputHidden": false
      }
    },
    {
      "cell_type": "code",
      "source": [
        "final_table = pd.concat((\n",
        "  hart_df,\n",
        "  hart_matched_nsa.drop(['RA', 'DEC'], axis=1),\n",
        "  hart_matched_gz2.drop(['ra', 'dec', 'dr7objid'], axis=1),\n",
        "), axis=1)"
      ],
      "outputs": [],
      "execution_count": 10,
      "metadata": {
        "collapsed": false,
        "outputHidden": false,
        "inputHidden": false
      }
    },
    {
      "cell_type": "code",
      "source": [
        "final_table.info()"
      ],
      "outputs": [
        {
          "output_type": "stream",
          "name": "stdout",
          "text": [
            "<class 'pandas.core.frame.DataFrame'>\n",
            "Int64Index: 6222 entries, 0 to 6221\n",
            "Data columns (total 35 columns):\n",
            "dr7objid                                                6222 non-null int64\n",
            "ra                                                      6222 non-null float64\n",
            "dec                                                     6222 non-null float64\n",
            "p_bar                                                   6222 non-null float64\n",
            "psi_sparcfire                                           6222 non-null float64\n",
            "psi_gz2                                                 6222 non-null float64\n",
            "logMstar                                                6222 non-null float64\n",
            "NSAID                                                   6114 non-null float64\n",
            "ISDSS                                                   6114 non-null float64\n",
            "INED                                                    6114 non-null float64\n",
            "IAUNAME                                                 6114 non-null object\n",
            "Z                                                       6114 non-null float32\n",
            "ZDIST                                                   6114 non-null float32\n",
            "SERSIC_BA                                               6114 non-null float32\n",
            "SERSIC_PHI                                              6114 non-null float32\n",
            "PETRO_THETA                                             6114 non-null float32\n",
            "PETRO_BA90                                              6113 non-null float32\n",
            "PETRO_PHI90                                             6113 non-null float32\n",
            "PETRO_BA50                                              6113 non-null float32\n",
            "PETRO_PHI50                                             6113 non-null float32\n",
            "RUN                                                     6114 non-null float64\n",
            "CAMCOL                                                  6114 non-null float64\n",
            "FIELD                                                   6114 non-null float64\n",
            "RERUN                                                   6114 non-null object\n",
            "ELPETRO_MASS                                            6114 non-null float32\n",
            "SERSIC_MASS                                             6114 non-null float32\n",
            "t01_smooth_or_features_a02_features_or_disk_debiased    6222 non-null float64\n",
            "t02_edgeon_a05_no_debiased                              6222 non-null float64\n",
            "t04_spiral_a08_spiral_debiased                          6222 non-null float64\n",
            "t11_arms_number_a31_1_flag                              6222 non-null int64\n",
            "t11_arms_number_a32_2_flag                              6222 non-null int64\n",
            "t11_arms_number_a33_3_flag                              6222 non-null int64\n",
            "t11_arms_number_a34_4_flag                              6222 non-null int64\n",
            "t11_arms_number_a36_more_than_4_flag                    6222 non-null int64\n",
            "t11_arms_number_a37_cant_tell_flag                      6222 non-null int64\n",
            "dtypes: float32(11), float64(15), int64(7), object(2)\n",
            "memory usage: 1.4+ MB\n"
          ]
        }
      ],
      "execution_count": 11,
      "metadata": {
        "collapsed": false,
        "outputHidden": false,
        "inputHidden": false
      }
    },
    {
      "cell_type": "markdown",
      "source": [
        "To ensure consistency with the previously calculated table, ensure that (once all required null values have been dropped), the dr7objids match:"
      ],
      "metadata": {}
    },
    {
      "cell_type": "code",
      "source": [
        "original_table = np.load('originalTable.npy')\n",
        "\n",
        "np.all(original_table['dr7objid'] == final_table[final_table['Z'].notna()]['dr7objid'])"
      ],
      "outputs": [
        {
          "output_type": "execute_result",
          "execution_count": 12,
          "data": {
            "text/plain": [
              "True"
            ]
          },
          "metadata": {}
        }
      ],
      "execution_count": 12,
      "metadata": {
        "collapsed": false,
        "outputHidden": false,
        "inputHidden": false
      }
    },
    {
      "cell_type": "markdown",
      "source": [
        "Write the result out to a CSV:"
      ],
      "metadata": {}
    },
    {
      "cell_type": "code",
      "source": [
        "final_table.to_csv('compiled_hart_catalog.csv')"
      ],
      "outputs": [],
      "execution_count": 13,
      "metadata": {
        "collapsed": false,
        "outputHidden": false,
        "inputHidden": false
      }
    },
    {
      "cell_type": "markdown",
      "source": [
        "It's worth noting here that here we do not calculate some of the columns in the original table - including `gz2NSpiralFlags`, and instead simply present the raw counts. However we do include more information - such as `p_bar`, `psi_sparcfire` and `psi_gz2`.\n",
        "\n",
        "The function originally used for `gz2NSpiralFlags` is below:"
      ],
      "metadata": {}
    },
    {
      "cell_type": "markdown",
      "source": [
        "## Make subject set indices"
      ],
      "metadata": {}
    },
    {
      "cell_type": "code",
      "source": [
        "# known seed for consistency\n",
        "np.random.seed(21508479)\n",
        "sortedByRedshift = np.argsort(finalTable['z'])\n",
        "zGtZeroMask = finalTable['z'][sortedByRedshift] > 0\n",
        "# don't know why one thing has z < 0, but I'm gonna ignore it\n",
        "finalOrderedByRedshift = finalTable[sortedByRedshift[zGtZeroMask]]"
      ],
      "outputs": [],
      "execution_count": null,
      "metadata": {
        "collapsed": false,
        "outputHidden": false,
        "inputHidden": false
      }
    },
    {
      "cell_type": "code",
      "source": [
        "def getNSpiral(data):\n",
        "    return data[[\n",
        "        't11_arms_number_a31_1_flag',\n",
        "        't11_arms_number_a32_2_flag',\n",
        "        't11_arms_number_a33_3_flag',\n",
        "        't11_arms_number_a34_4_flag',\n",
        "        't11_arms_number_a36_more_than_4_flag',\n",
        "        't11_arms_number_a37_cant_tell_flag'\n",
        "    ]]"
      ],
      "outputs": [],
      "execution_count": 14,
      "metadata": {
        "collapsed": false,
        "outputHidden": false,
        "inputHidden": false
      }
    }
  ],
  "metadata": {
    "kernel_info": {
      "name": "python3"
    },
    "language_info": {
      "name": "python",
      "version": "3.6.7",
      "mimetype": "text/x-python",
      "codemirror_mode": {
        "name": "ipython",
        "version": 3
      },
      "pygments_lexer": "ipython3",
      "nbconvert_exporter": "python",
      "file_extension": ".py"
    },
    "kernelspec": {
      "name": "python3",
      "language": "python",
      "display_name": "Python 3"
    },
    "nteract": {
      "version": "0.14.3"
    }
  },
  "nbformat": 4,
  "nbformat_minor": 0
}