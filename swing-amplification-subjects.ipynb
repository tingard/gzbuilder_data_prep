{
  "cells": [
    {
      "cell_type": "markdown",
      "source": [
        "# Create subject set for Galaxy Builder\n",
        "\n",
        "Given a list of Ra, Dec pairs, this notebook performs matching to the NSA catalogue, looks up information in the MaNGA catalogue and creates a list of Galaxy Builder subjects in the output folder provided."
      ],
      "metadata": {}
    },
    {
      "cell_type": "code",
      "source": [
        "%load_ext autoreload\n",
        "%autoreload 2"
      ],
      "outputs": [],
      "execution_count": 1,
      "metadata": {
        "collapsed": false,
        "outputHidden": false,
        "inputHidden": false
      }
    },
    {
      "cell_type": "code",
      "source": [
        "import os\n",
        "import sys\n",
        "import json\n",
        "import re\n",
        "import string\n",
        "import matplotlib.pyplot as plt\n",
        "import numpy as np\n",
        "import pandas as pd\n",
        "import panoptes_client\n",
        "from tqdm import tqdm\n",
        "from astropy.io import fits\n",
        "from astropy.coordinates import SkyCoord\n",
        "from astropy import units as u\n",
        "from astropy.coordinates import match_coordinates_sky\n",
        "from panoptes_client import SubjectSet, Subject, Project, Panoptes\n",
        "import sdssCutoutGrab as scg\n",
        "import subjectCreator as subC"
      ],
      "outputs": [],
      "execution_count": 2,
      "metadata": {
        "collapsed": false,
        "outputHidden": false,
        "inputHidden": false
      }
    },
    {
      "cell_type": "code",
      "source": [
        "input_catalog = 'MaNGASpirals127_WestfallRotn_GZ2.fits'\n",
        "subject_set_name = 'sa_subject_set'\n",
        "nsa_catalogue_location = 'nsa_v1_0_1.fits'\n",
        "manga_catalogue_location = 'MaNGA_gz.fits'\n",
        "catalog_output = 'sa_subject_set.csv' # set to None if not wanted, must be csv file"
      ],
      "outputs": [],
      "execution_count": 3,
      "metadata": {
        "collapsed": false,
        "outputHidden": false,
        "inputHidden": false,
        "tags": [
          "parameters"
        ]
      }
    },
    {
      "cell_type": "code",
      "source": [
        "if input_catalog.split('.')[-1] == 'fits':\n",
        "    catalog_data = pd.DataFrame(\n",
        "        fits.open(input_catalog)[1].data\n",
        "    )\n",
        "elif input_catalog.split('.')[-1] == 'csv':\n",
        "    catalog_data = pd.read_csv(input_catalog)\n",
        "\n",
        "catalog_data.columns = catalog_data.columns.map(lambda s: s.lower())"
      ],
      "outputs": [],
      "execution_count": 4,
      "metadata": {
        "collapsed": false,
        "outputHidden": false,
        "inputHidden": false
      }
    },
    {
      "cell_type": "code",
      "source": [
        "nsa_cat = fits.open(nsa_catalogue_location)[1].data\n",
        "manga_gz = fits.open(manga_catalogue_location)[1].data"
      ],
      "outputs": [],
      "execution_count": 5,
      "metadata": {
        "collapsed": false,
        "outputHidden": false,
        "inputHidden": false
      }
    },
    {
      "cell_type": "code",
      "source": [
        "sa_coords = SkyCoord(\n",
        "    ra=catalog_data['ra'].values * u.degree,\n",
        "    dec=catalog_data['dec'].values * u.degree,\n",
        ")\n",
        "\n",
        "nsa_coords = SkyCoord(\n",
        "    ra=nsa_cat['RA'] * u.degree,\n",
        "    dec=nsa_cat['DEC'] * u.degree,\n",
        ")"
      ],
      "outputs": [],
      "execution_count": 6,
      "metadata": {
        "collapsed": false,
        "outputHidden": false,
        "inputHidden": false
      }
    },
    {
      "cell_type": "code",
      "source": [
        "jsFull, sep2d, d3d = match_coordinates_sky(sa_coords, nsa_coords)\n",
        "jsMask = sep2d < 5*u.arcsecond\n",
        "js = jsFull[jsMask]\n",
        "\n",
        "plt.hist(sep2d[jsMask].arcsecond, density=True)\n",
        "plt.xlabel('Separation between input and NSA (arcseconds)');"
      ],
      "outputs": [
        {
          "output_type": "display_data",
          "data": {
            "text/plain": [
              "<Figure size 432x288 with 1 Axes>"
            ],
            "image/png": "[encoded data removed]"
          },
          "metadata": {
            "needs_background": "light"
          }
        }
      ],
      "execution_count": 7,
      "metadata": {
        "collapsed": false,
        "outputHidden": false,
        "inputHidden": false
      }
    },
    {
      "cell_type": "code",
      "source": [
        "keys = (\n",
        "    'RA', 'DEC', 'Z', 'ZDIST',\n",
        "    'ISDSS', 'INED', 'NSAID', 'IAUNAME',\n",
        "    'RUN', 'CAMCOL', 'FIELD', 'RERUN',\n",
        "    'PETRO_THETA', 'SERSIC_BA',\n",
        ")\n",
        "nsa_match = pd.DataFrame(\n",
        "    {k: nsa_cat[jsFull][k].byteswap().newbyteorder() for k in keys}\n",
        ").rename(columns={\n",
        "    'RA': 'ra', 'DEC': 'dec', 'Z': 'z',\n",
        "    'ISDSS': 'dr7objid', 'PETRO_THETA': 'petrotheta',\n",
        "})\n",
        "nsa_match.head()"
      ],
      "outputs": [
        {
          "output_type": "execute_result",
          "execution_count": 8,
          "data": {
            "text/plain": [
              "           ra        dec         z     ZDIST  dr7objid    INED   NSAID  \\\n",
              "0  189.213253  45.651170  0.030345  0.030521        -1      -1  668920   \n",
              "1  213.416820  43.866565  0.035045  0.035309    286679  151381  281486   \n",
              "2  213.783652  45.594849  0.015943  0.016606    253602  151727  249054   \n",
              "3  199.942789  47.715574  0.028828  0.029080    306655  135480  301449   \n",
              "4  128.687741  52.715686  0.044879  0.045203     50037   57678   49570   \n",
              "\n",
              "               IAUNAME   RUN  CAMCOL  FIELD RERUN  petrotheta  SERSIC_BA  \n",
              "0  J123650.90+453902.9  3813       5    247   301   17.003117   0.817457  \n",
              "1  J141340.03+435159.7  3699       4    155   301   24.384027   0.801103  \n",
              "2  J141508.07+453541.4  2964       2    453   301   21.133516   0.470907  \n",
              "3  J131946.26+474255.9  3716       6    105   301   19.284403   0.647211  \n",
              "4  J083445.04+524256.4  1350       3    167   301   20.655245   0.386585  "
            ],
            "text/html": [
              "<div>\n",
              "<style scoped>\n",
              "    .dataframe tbody tr th:only-of-type {\n",
              "        vertical-align: middle;\n",
              "    }\n",
              "\n",
              "    .dataframe tbody tr th {\n",
              "        vertical-align: top;\n",
              "    }\n",
              "\n",
              "    .dataframe thead th {\n",
              "        text-align: right;\n",
              "    }\n",
              "</style>\n",
              "<table border=\"1\" class=\"dataframe\">\n",
              "  <thead>\n",
              "    <tr style=\"text-align: right;\">\n",
              "      <th></th>\n",
              "      <th>ra</th>\n",
              "      <th>dec</th>\n",
              "      <th>z</th>\n",
              "      <th>ZDIST</th>\n",
              "      <th>dr7objid</th>\n",
              "      <th>INED</th>\n",
              "      <th>NSAID</th>\n",
              "      <th>IAUNAME</th>\n",
              "      <th>RUN</th>\n",
              "      <th>CAMCOL</th>\n",
              "      <th>FIELD</th>\n",
              "      <th>RERUN</th>\n",
              "      <th>petrotheta</th>\n",
              "      <th>SERSIC_BA</th>\n",
              "    </tr>\n",
              "  </thead>\n",
              "  <tbody>\n",
              "    <tr>\n",
              "      <th>0</th>\n",
              "      <td>189.213253</td>\n",
              "      <td>45.651170</td>\n",
              "      <td>0.030345</td>\n",
              "      <td>0.030521</td>\n",
              "      <td>-1</td>\n",
              "      <td>-1</td>\n",
              "      <td>668920</td>\n",
              "      <td>J123650.90+453902.9</td>\n",
              "      <td>3813</td>\n",
              "      <td>5</td>\n",
              "      <td>247</td>\n",
              "      <td>301</td>\n",
              "      <td>17.003117</td>\n",
              "      <td>0.817457</td>\n",
              "    </tr>\n",
              "    <tr>\n",
              "      <th>1</th>\n",
              "      <td>213.416820</td>\n",
              "      <td>43.866565</td>\n",
              "      <td>0.035045</td>\n",
              "      <td>0.035309</td>\n",
              "      <td>286679</td>\n",
              "      <td>151381</td>\n",
              "      <td>281486</td>\n",
              "      <td>J141340.03+435159.7</td>\n",
              "      <td>3699</td>\n",
              "      <td>4</td>\n",
              "      <td>155</td>\n",
              "      <td>301</td>\n",
              "      <td>24.384027</td>\n",
              "      <td>0.801103</td>\n",
              "    </tr>\n",
              "    <tr>\n",
              "      <th>2</th>\n",
              "      <td>213.783652</td>\n",
              "      <td>45.594849</td>\n",
              "      <td>0.015943</td>\n",
              "      <td>0.016606</td>\n",
              "      <td>253602</td>\n",
              "      <td>151727</td>\n",
              "      <td>249054</td>\n",
              "      <td>J141508.07+453541.4</td>\n",
              "      <td>2964</td>\n",
              "      <td>2</td>\n",
              "      <td>453</td>\n",
              "      <td>301</td>\n",
              "      <td>21.133516</td>\n",
              "      <td>0.470907</td>\n",
              "    </tr>\n",
              "    <tr>\n",
              "      <th>3</th>\n",
              "      <td>199.942789</td>\n",
              "      <td>47.715574</td>\n",
              "      <td>0.028828</td>\n",
              "      <td>0.029080</td>\n",
              "      <td>306655</td>\n",
              "      <td>135480</td>\n",
              "      <td>301449</td>\n",
              "      <td>J131946.26+474255.9</td>\n",
              "      <td>3716</td>\n",
              "      <td>6</td>\n",
              "      <td>105</td>\n",
              "      <td>301</td>\n",
              "      <td>19.284403</td>\n",
              "      <td>0.647211</td>\n",
              "    </tr>\n",
              "    <tr>\n",
              "      <th>4</th>\n",
              "      <td>128.687741</td>\n",
              "      <td>52.715686</td>\n",
              "      <td>0.044879</td>\n",
              "      <td>0.045203</td>\n",
              "      <td>50037</td>\n",
              "      <td>57678</td>\n",
              "      <td>49570</td>\n",
              "      <td>J083445.04+524256.4</td>\n",
              "      <td>1350</td>\n",
              "      <td>3</td>\n",
              "      <td>167</td>\n",
              "      <td>301</td>\n",
              "      <td>20.655245</td>\n",
              "      <td>0.386585</td>\n",
              "    </tr>\n",
              "  </tbody>\n",
              "</table>\n",
              "</div>"
            ]
          },
          "metadata": {}
        }
      ],
      "execution_count": 8,
      "metadata": {
        "collapsed": false,
        "outputHidden": false,
        "inputHidden": false
      }
    },
    {
      "cell_type": "code",
      "source": [
        "NEEDED_MANGA_KEYS = ('MANGAID',)\n",
        "nsa_match['Plate IFU'] = pd.DataFrame(\n",
        "    dict(MANGAID=manga_gz['MANGAID']),\n",
        "    index=manga_gz['nsa_id']\n",
        ").reindex(nsa_match.NSAID).reset_index(drop=True)\n",
        "base_marvin_url = 'https://dr15.sdss.org/marvin/galaxy/{}/'\n",
        "nsa_match['Marvin URL'] = nsa_match['Plate IFU'].apply(\n",
        "    lambda i: base_marvin_url.format(i)\n",
        ")\n",
        "nsa_match.info()"
      ],
      "outputs": [
        {
          "output_type": "stream",
          "name": "stdout",
          "text": [
            "<class 'pandas.core.frame.DataFrame'>\n",
            "RangeIndex: 196 entries, 0 to 195\n",
            "Data columns (total 16 columns):\n",
            "ra            196 non-null float64\n",
            "dec           196 non-null float64\n",
            "z             196 non-null float32\n",
            "ZDIST         196 non-null float32\n",
            "dr7objid      196 non-null int32\n",
            "INED          196 non-null int32\n",
            "NSAID         196 non-null int32\n",
            "IAUNAME       196 non-null object\n",
            "RUN           196 non-null int16\n",
            "CAMCOL        196 non-null uint8\n",
            "FIELD         196 non-null int16\n",
            "RERUN         196 non-null object\n",
            "petrotheta    196 non-null float32\n",
            "SERSIC_BA     196 non-null float32\n",
            "Plate IFU     195 non-null object\n",
            "Marvin URL    196 non-null object\n",
            "dtypes: float32(4), float64(2), int16(2), int32(3), object(4), uint8(1)\n",
            "memory usage: 15.6+ KB\n"
          ]
        }
      ],
      "execution_count": 9,
      "metadata": {
        "collapsed": false,
        "outputHidden": false,
        "inputHidden": false
      }
    },
    {
      "cell_type": "code",
      "source": [
        "if catalog_output is not None:\n",
        "    nsa_match.to_csv(catalog_output)"
      ],
      "outputs": [],
      "execution_count": 10,
      "metadata": {
        "collapsed": false,
        "outputHidden": false,
        "inputHidden": false
      }
    },
    {
      "cell_type": "code",
      "source": [
        "files, success, err, montageFailures = [], [], [], []\n",
        "original = sys.stdout\n",
        "with open('file_creation_log.log', 'w') as f:\n",
        "    for i, gal in tqdm(nsa_match.dropna().iterrows()):\n",
        "        try:\n",
        "            sys.stdout = f\n",
        "            extra_meta = {\n",
        "                'Plate IFU': gal['Plate IFU'],\n",
        "                'Marvin URL': \"[View on Marvin](+tab+{})\".format(\n",
        "                    gal['Marvin URL'],\n",
        "                ),\n",
        "            }\n",
        "            res = subC.pipeline(\n",
        "                gal,\n",
        "                outputFolder=subject_set_name,\n",
        "                subjectName='subject{}'.format(i),\n",
        "                extra_metadata=extra_meta,\n",
        "                source_extraction_kwargs=dict(threshold=0.05, minarea=5, deblend_cont=0.05),\n",
        "            )\n",
        "            if res:\n",
        "                success += [i]\n",
        "                files += [res]\n",
        "            else:\n",
        "                montageFailures += [i]\n",
        "            sys.stdout.flush()\n",
        "        except Exception as e:\n",
        "            sys.stdout = original\n",
        "            print(i)\n",
        "            raise(e)\n",
        "        finally:\n",
        "            sys.stdout = original\n",
        "        sys.stdout = original"
      ],
      "outputs": [
        {
          "output_type": "stream",
          "name": "stderr",
          "text": [
            "9it [03:31, 30.05s/it]WARNING: FITSFixedWarning: RADECSYS= 'ICRS ' / International Celestial Ref. System \n",
            "the RADECSYS keyword is deprecated, use RADESYSa. [astropy.wcs.wcs]\n",
            "16it [06:46, 27.26s/it]WARNING: FITSFixedWarning: RADECSYS= 'ICRS ' / International Celestial Ref. System \n",
            "the RADECSYS keyword is deprecated, use RADESYSa. [astropy.wcs.wcs]\n",
            "31it [12:53, 20.17s/it]WARNING: FITSFixedWarning: RADECSYS= 'ICRS ' / International Celestial Ref. System \n",
            "the RADECSYS keyword is deprecated, use RADESYSa. [astropy.wcs.wcs]\n",
            "36it [14:18, 20.54s/it]WARNING: FITSFixedWarning: RADECSYS= 'ICRS ' / International Celestial Ref. System \n",
            "the RADECSYS keyword is deprecated, use RADESYSa. [astropy.wcs.wcs]\n",
            "40it [15:13, 16.30s/it]WARNING: FITSFixedWarning: RADECSYS= 'ICRS ' / International Celestial Ref. System \n",
            "the RADECSYS keyword is deprecated, use RADESYSa. [astropy.wcs.wcs]\n",
            "49it [17:35, 22.03s/it]WARNING: FITSFixedWarning: RADECSYS= 'ICRS ' / International Celestial Ref. System \n",
            "the RADECSYS keyword is deprecated, use RADESYSa. [astropy.wcs.wcs]\n",
            "52it [18:01, 14.66s/it]WARNING: FITSFixedWarning: RADECSYS= 'ICRS ' / International Celestial Ref. System \n",
            "the RADECSYS keyword is deprecated, use RADESYSa. [astropy.wcs.wcs]\n",
            "57it [19:26, 21.18s/it]WARNING: FITSFixedWarning: RADECSYS= 'ICRS ' / International Celestial Ref. System \n",
            "the RADECSYS keyword is deprecated, use RADESYSa. [astropy.wcs.wcs]\n",
            "61it [20:18, 17.34s/it]WARNING: FITSFixedWarning: RADECSYS= 'ICRS ' / International Celestial Ref. System \n",
            "the RADECSYS keyword is deprecated, use RADESYSa. [astropy.wcs.wcs]\n",
            "65it [21:21, 18.12s/it]WARNING: FITSFixedWarning: RADECSYS= 'ICRS ' / International Celestial Ref. System \n",
            "the RADECSYS keyword is deprecated, use RADESYSa. [astropy.wcs.wcs]\n",
            "68it [21:58, 15.75s/it]WARNING: FITSFixedWarning: RADECSYS= 'ICRS ' / International Celestial Ref. System \n",
            "the RADECSYS keyword is deprecated, use RADESYSa. [astropy.wcs.wcs]\n",
            "78it [24:21, 15.63s/it]WARNING: FITSFixedWarning: RADECSYS= 'ICRS ' / International Celestial Ref. System \n",
            "the RADECSYS keyword is deprecated, use RADESYSa. [astropy.wcs.wcs]\n",
            "84it [25:56, 18.05s/it]WARNING: FITSFixedWarning: RADECSYS= 'ICRS ' / International Celestial Ref. System \n",
            "the RADECSYS keyword is deprecated, use RADESYSa. [astropy.wcs.wcs]\n",
            "87it [26:41, 17.20s/it]WARNING: FITSFixedWarning: RADECSYS= 'ICRS ' / International Celestial Ref. System \n",
            "the RADECSYS keyword is deprecated, use RADESYSa. [astropy.wcs.wcs]\n",
            "90it [27:11, 13.32s/it]WARNING: FITSFixedWarning: RADECSYS= 'ICRS ' / International Celestial Ref. System \n",
            "the RADECSYS keyword is deprecated, use RADESYSa. [astropy.wcs.wcs]\n",
            "99it [30:08, 23.71s/it]WARNING: FITSFixedWarning: RADECSYS= 'ICRS ' / International Celestial Ref. System \n",
            "the RADECSYS keyword is deprecated, use RADESYSa. [astropy.wcs.wcs]\n",
            "102it [30:54, 19.36s/it]"
          ]
        },
        {
          "output_type": "error",
          "ename": "KeyboardInterrupt",
          "evalue": "",
          "traceback": [
            "\u001b[0;31m---------------------------------------------------------------------------\u001b[0m",
            "\u001b[0;31mKeyboardInterrupt\u001b[0m                         Traceback (most recent call last)",
            "\u001b[0;32m<ipython-input-11-22feca9306f6>\u001b[0m in \u001b[0;36m<module>\u001b[0;34m\u001b[0m\n\u001b[1;32m     16\u001b[0m                 \u001b[0msubjectName\u001b[0m\u001b[0;34m=\u001b[0m\u001b[0;34m'subject{}'\u001b[0m\u001b[0;34m.\u001b[0m\u001b[0mformat\u001b[0m\u001b[0;34m(\u001b[0m\u001b[0mi\u001b[0m\u001b[0;34m)\u001b[0m\u001b[0;34m,\u001b[0m\u001b[0;34m\u001b[0m\u001b[0;34m\u001b[0m\u001b[0m\n\u001b[1;32m     17\u001b[0m                 \u001b[0mextra_metadata\u001b[0m\u001b[0;34m=\u001b[0m\u001b[0mextra_meta\u001b[0m\u001b[0;34m,\u001b[0m\u001b[0;34m\u001b[0m\u001b[0;34m\u001b[0m\u001b[0m\n\u001b[0;32m---> 18\u001b[0;31m                 \u001b[0msource_extraction_kwargs\u001b[0m\u001b[0;34m=\u001b[0m\u001b[0mdict\u001b[0m\u001b[0;34m(\u001b[0m\u001b[0mthreshold\u001b[0m\u001b[0;34m=\u001b[0m\u001b[0;36m0.05\u001b[0m\u001b[0;34m,\u001b[0m \u001b[0mminarea\u001b[0m\u001b[0;34m=\u001b[0m\u001b[0;36m5\u001b[0m\u001b[0;34m,\u001b[0m \u001b[0mdeblend_cont\u001b[0m\u001b[0;34m=\u001b[0m\u001b[0;36m0.05\u001b[0m\u001b[0;34m)\u001b[0m\u001b[0;34m,\u001b[0m\u001b[0;34m\u001b[0m\u001b[0;34m\u001b[0m\u001b[0m\n\u001b[0m\u001b[1;32m     19\u001b[0m             )\n\u001b[1;32m     20\u001b[0m             \u001b[0;32mif\u001b[0m \u001b[0mres\u001b[0m\u001b[0;34m:\u001b[0m\u001b[0;34m\u001b[0m\u001b[0;34m\u001b[0m\u001b[0m\n",
            "\u001b[0;32m~/PhD/galaxy-builder/subjectUpload/subjectCreator.py\u001b[0m in \u001b[0;36mpipeline\u001b[0;34m(galObj, outputFolder, subjectName, extra_metadata, source_extraction_kwargs, verbose)\u001b[0m\n\u001b[1;32m    187\u001b[0m \u001b[0;34m\u001b[0m\u001b[0m\n\u001b[1;32m    188\u001b[0m     \u001b[0moutput_dir\u001b[0m \u001b[0;34m=\u001b[0m \u001b[0;34m'montageOutputs/{}+{}'\u001b[0m\u001b[0;34m.\u001b[0m\u001b[0mformat\u001b[0m\u001b[0;34m(\u001b[0m\u001b[0mgalObj\u001b[0m\u001b[0;34m[\u001b[0m\u001b[0;34m'ra'\u001b[0m\u001b[0;34m]\u001b[0m\u001b[0;34m,\u001b[0m \u001b[0mgalObj\u001b[0m\u001b[0;34m[\u001b[0m\u001b[0;34m'dec'\u001b[0m\u001b[0;34m]\u001b[0m\u001b[0;34m)\u001b[0m\u001b[0;34m\u001b[0m\u001b[0;34m\u001b[0m\u001b[0m\n\u001b[0;32m--> 189\u001b[0;31m     \u001b[0mfile_loc\u001b[0m \u001b[0;34m=\u001b[0m \u001b[0mdoMontage\u001b[0m\u001b[0;34m(\u001b[0m\u001b[0mdirToMontage\u001b[0m\u001b[0;34m,\u001b[0m \u001b[0moutput_dir\u001b[0m\u001b[0;34m)\u001b[0m\u001b[0;34m\u001b[0m\u001b[0;34m\u001b[0m\u001b[0m\n\u001b[0m\u001b[1;32m    190\u001b[0m \u001b[0;34m\u001b[0m\u001b[0m\n\u001b[1;32m    191\u001b[0m     \u001b[0mfitsFile\u001b[0m \u001b[0;34m=\u001b[0m \u001b[0mfits\u001b[0m\u001b[0;34m.\u001b[0m\u001b[0mopen\u001b[0m\u001b[0;34m(\u001b[0m\u001b[0mfile_loc\u001b[0m\u001b[0;34m)\u001b[0m\u001b[0;34m\u001b[0m\u001b[0;34m\u001b[0m\u001b[0m\n",
            "\u001b[0;32m~/PhD/galaxy-builder/subjectUpload/subjectCreator.py\u001b[0m in \u001b[0;36mdoMontage\u001b[0;34m(folder, outFile, header)\u001b[0m\n\u001b[1;32m     95\u001b[0m             \u001b[0moutFile\u001b[0m\u001b[0;34m,\u001b[0m\u001b[0;34m\u001b[0m\u001b[0;34m\u001b[0m\u001b[0m\n\u001b[1;32m     96\u001b[0m             \u001b[0mheader\u001b[0m\u001b[0;34m=\u001b[0m\u001b[0mheader\u001b[0m\u001b[0;34m,\u001b[0m\u001b[0;34m\u001b[0m\u001b[0;34m\u001b[0m\u001b[0m\n\u001b[0;32m---> 97\u001b[0;31m             \u001b[0mbackground_match\u001b[0m\u001b[0;34m=\u001b[0m\u001b[0;32mTrue\u001b[0m\u001b[0;34m\u001b[0m\u001b[0;34m\u001b[0m\u001b[0m\n\u001b[0m\u001b[1;32m     98\u001b[0m         )\n\u001b[1;32m     99\u001b[0m         \u001b[0;32mreturn\u001b[0m \u001b[0mos\u001b[0m\u001b[0;34m.\u001b[0m\u001b[0mpath\u001b[0m\u001b[0;34m.\u001b[0m\u001b[0mabspath\u001b[0m\u001b[0;34m(\u001b[0m\u001b[0moutFile\u001b[0m \u001b[0;34m+\u001b[0m \u001b[0;34m'/mosaic.fits'\u001b[0m\u001b[0;34m)\u001b[0m\u001b[0;34m\u001b[0m\u001b[0;34m\u001b[0m\u001b[0m\n",
            "\u001b[0;32m~/anaconda3/lib/python3.6/site-packages/montage_wrapper/wrappers.py\u001b[0m in \u001b[0;36mmosaic\u001b[0;34m(input_dir, output_dir, header, image_table, mpi, n_proc, background_match, imglist, combine, exact_size, cleanup, bitpix, level_only, work_dir, background_n_iter, subset_fast, hdu)\u001b[0m\n\u001b[1;32m    550\u001b[0m \u001b[0;34m\u001b[0m\u001b[0m\n\u001b[1;32m    551\u001b[0m     m.mProjExec(images_raw_tbl, header_hdr, projected_dir, stats_tbl,\n\u001b[0;32m--> 552\u001b[0;31m                 raw_dir=raw_dir, mpi=mpi, n_proc=n_proc, exact=exact_size)\n\u001b[0m\u001b[1;32m    553\u001b[0m \u001b[0;34m\u001b[0m\u001b[0m\n\u001b[1;32m    554\u001b[0m     \u001b[0;31m# List projected frames\u001b[0m\u001b[0;34m\u001b[0m\u001b[0;34m\u001b[0m\u001b[0;34m\u001b[0m\u001b[0m\n",
            "\u001b[0;32m~/anaconda3/lib/python3.6/site-packages/montage_wrapper/commands.py\u001b[0m in \u001b[0;36mmProjExec\u001b[0;34m(images_table, template_header, proj_dir, stats_table, raw_dir, debug, exact, whole, border, restart_rec, status_file, scale_column, mpi, n_proc)\u001b[0m\n\u001b[1;32m   1832\u001b[0m     p = subprocess.Popen(shlex.split(command), stdout=subprocess.PIPE,\n\u001b[1;32m   1833\u001b[0m         stderr=subprocess.PIPE)\n\u001b[0;32m-> 1834\u001b[0;31m     \u001b[0mstderr\u001b[0m \u001b[0;34m=\u001b[0m \u001b[0mp\u001b[0m\u001b[0;34m.\u001b[0m\u001b[0mstderr\u001b[0m\u001b[0;34m.\u001b[0m\u001b[0mread\u001b[0m\u001b[0;34m(\u001b[0m\u001b[0;34m)\u001b[0m\u001b[0;34m\u001b[0m\u001b[0;34m\u001b[0m\u001b[0m\n\u001b[0m\u001b[1;32m   1835\u001b[0m     \u001b[0;32mif\u001b[0m \u001b[0mstderr\u001b[0m\u001b[0;34m:\u001b[0m\u001b[0;34m\u001b[0m\u001b[0;34m\u001b[0m\u001b[0m\n\u001b[1;32m   1836\u001b[0m         \u001b[0;32mraise\u001b[0m \u001b[0mException\u001b[0m\u001b[0;34m(\u001b[0m\u001b[0mstderr\u001b[0m\u001b[0;34m)\u001b[0m\u001b[0;34m\u001b[0m\u001b[0;34m\u001b[0m\u001b[0m\n",
            "\u001b[0;31mKeyboardInterrupt\u001b[0m: "
          ]
        }
      ],
      "execution_count": 11,
      "metadata": {
        "collapsed": false,
        "outputHidden": false,
        "inputHidden": false,
        "outputExpanded": true
      }
    },
    {
      "cell_type": "markdown",
      "source": [
        "# Upload to the Zooniverse\n",
        "\n",
        "We've made our subject set, now to send it on its merry way, use \n",
        "\n",
        "`python uploadSubjects.py [subject_set_folder] [subject_set_name]`\n",
        "\n",
        "(as an admin)"
      ],
      "metadata": {}
    }
  ],
  "metadata": {
    "kernel_info": {
      "name": "python3"
    },
    "language_info": {
      "name": "python",
      "version": "3.6.7",
      "mimetype": "text/x-python",
      "codemirror_mode": {
        "name": "ipython",
        "version": 3
      },
      "pygments_lexer": "ipython3",
      "nbconvert_exporter": "python",
      "file_extension": ".py"
    },
    "kernelspec": {
      "name": "python3",
      "language": "python",
      "display_name": "Python 3"
    },
    "nteract": {
      "version": "0.14.3"
    }
  },
  "nbformat": 4,
  "nbformat_minor": 0
}