{
  "cells": [
    {
      "cell_type": "markdown",
      "source": [
        "# Milky-way analogue subject upload"
      ],
      "metadata": {
        "collapsed": false,
        "outputHidden": false,
        "inputHidden": false
      }
    },
    {
      "cell_type": "code",
      "source": [
        "%load_ext autoreload\n",
        "%autoreload 2"
      ],
      "outputs": [],
      "execution_count": 1,
      "metadata": {
        "collapsed": false,
        "outputHidden": false,
        "inputHidden": false
      }
    },
    {
      "cell_type": "code",
      "source": [
        "import os\n",
        "import json\n",
        "import re\n",
        "import getpass\n",
        "import matplotlib.pyplot as plt\n",
        "import numpy as np\n",
        "import pandas as pd\n",
        "import panoptes_client\n",
        "from astropy.io import fits\n",
        "from astropy.coordinates import SkyCoord\n",
        "from astropy import units as u\n",
        "from astropy.coordinates import match_coordinates_sky\n",
        "from astropy import log\n",
        "from tqdm import tqdm\n",
        "from panoptes_client import SubjectSet, Subject, Project, Panoptes\n",
        "import sdssCutoutGrab as scg\n",
        "import subjectCreator as subC"
      ],
      "outputs": [],
      "execution_count": 2,
      "metadata": {
        "collapsed": false,
        "outputHidden": false,
        "inputHidden": false
      }
    },
    {
      "cell_type": "code",
      "source": [
        "# log.setLevel('ERROR')"
      ],
      "outputs": [],
      "execution_count": 3,
      "metadata": {
        "collapsed": false,
        "outputHidden": false,
        "inputHidden": false
      }
    },
    {
      "cell_type": "markdown",
      "source": [
        "The MWA galaxy info provided can be seen below. The dataframe is called `mwa_df`"
      ],
      "metadata": {
        "collapsed": false,
        "outputHidden": false,
        "inputHidden": false
      }
    },
    {
      "cell_type": "code",
      "source": [
        "mwa_df = pd.DataFrame([\n",
        "    ('8137-12703', 116.16926, 44.144409, 'https://dr15.sdss.org/marvin/galaxy/8137-12703/'),\n",
        "    ('8141-12701', 116.73264, 44.265699, 'https://dr15.sdss.org/marvin/galaxy/8141-12701/'),\n",
        "    ('8567-6101', 119.14512, 47.563851, 'https://dr15.sdss.org/marvin/galaxy/8567-6101/'),\n",
        "    ('9486-12702', 121.12960, 40.206045, 'https://dr15.sdss.org/marvin/galaxy/9486-12702/'),\n",
        "    ('9487-12701', 122.52287, 46.193025, 'https://dr15.sdss.org/marvin/galaxy/9487-12701/'),\n",
        "    ('8244-6101', 130.45491, 50.786425, 'https://dr15.sdss.org/marvin/galaxy/8244-6101/'),\n",
        "    ('9028-9101', 243.02559, 28.498866, 'https://dr15.sdss.org/marvin/galaxy/9028-9101/'),\n",
        "    ('8595-3702', 219.04276, 50.518822, 'https://dr15.sdss.org/marvin/galaxy/8595-3702/'),\n",
        "    ('8549-3703', 241.41644, 46.846561, 'https://dr15.sdss.org/marvin/galaxy/8549-3703/'),\n",
        "    ('9031-12703', 242.81922, 45.121318, 'https://dr15.sdss.org/marvin/galaxy/9031-12703/'),\n",
        "    ('9868-12705', 218.87457, 46.202391, 'https://dr15.sdss.org/marvin/galaxy/9868-12705/'),\n",
        "    ('8979-9101', 241.27859, 42.037358, 'https://dr15.sdss.org/marvin/galaxy/8979-9101/'),\n",
        "    ('8979-6102', 241.82339, 41.403604, 'https://dr15.sdss.org/marvin/galaxy/8979-6102/'),\n",
        "    ('8315-12705', 235.92049, 39.540357, 'https://dr15.sdss.org/marvin/galaxy/8315-12705/'),\n",
        "    ('8934-12701', 196.16279, 28.628904, 'https://dr15.sdss.org/marvin/galaxy/8934-12701/'),\n",
        "    ('8319-6102', 199.94477, 48.206576, 'https://dr15.sdss.org/marvin/galaxy/8319-6102/'),\n",
        "    ('8444-12703', 201.41111, 33.680433, 'https://dr15.sdss.org/marvin/galaxy/8444-12703/'),\n",
        "    ('8985-9102', 205.87340, 31.003218, 'https://dr15.sdss.org/marvin/galaxy/8985-9102/'),\n",
        "    ('8241-3704', 126.56891, 17.362452, 'https://dr15.sdss.org/marvin/galaxy/8241-3704/'),\n",
        "    ('8146-12702', 116.83569, 29.412934, 'https://dr15.sdss.org/marvin/galaxy/8146-12702/'),\n",
        "    ('9491-12704', 119.53574, 19.550146, 'https://dr15.sdss.org/marvin/galaxy/9491-12704/'),\n",
        "    ('9506-3701', 133.56990, 27.266526, 'https://dr15.sdss.org/marvin/galaxy/9506-3701/'),\n",
        "    ('8613-12702', 254.04414, 34.836520, 'https://dr15.sdss.org/marvin/galaxy/8613-12702/'),\n",
        "    ('8568-6103', 155.37679, 38.308947, 'https://dr15.sdss.org/marvin/galaxy/8568-6103/'),\n",
        "    ('8263-6104', 187.28568, 46.881492, 'https://dr15.sdss.org/marvin/galaxy/8263-6104/'),\n",
        "    ('8257-12705', 167.03456, 45.984624, 'https://dr15.sdss.org/marvin/galaxy/8257-12705/'),\n",
        "    ('8947-12703', 172.88669, 49.857504, 'https://dr15.sdss.org/marvin/galaxy/8947-12703/'),\n",
        "    ('9095-9102', 243.08489, 23.002020, 'https://dr15.sdss.org/marvin/galaxy/9095-9102/'),\n",
        "    ('8615-9102', 321.47404, 0.41605877, 'https://dr15.sdss.org/marvin/galaxy/8615-9102/'),\n",
        "    ('9196-9101', 262.65063, 54.101229, 'https://dr15.sdss.org/marvin/galaxy/9196-9101/'),\n",
        "    ('9196-6104', 262.31772, 54.205924, 'https://dr15.sdss.org/marvin/galaxy/9196-6104/'),\n",
        "    ('8244-9101', 133.78758, 52.470442, 'https://dr15.sdss.org/marvin/galaxy/8244-9101/'),\n",
        "], columns=('Plate IFU', 'ra', 'dec', 'Marvin URL'))\n",
        "mwa_df.head(3)"
      ],
      "outputs": [
        {
          "output_type": "execute_result",
          "execution_count": 4,
          "data": {
            "text/plain": [
              "    Plate IFU         ra        dec  \\\n",
              "0  8137-12703  116.16926  44.144409   \n",
              "1  8141-12701  116.73264  44.265699   \n",
              "2   8567-6101  119.14512  47.563851   \n",
              "\n",
              "                                        Marvin URL  \n",
              "0  https://dr15.sdss.org/marvin/galaxy/8137-12703/  \n",
              "1  https://dr15.sdss.org/marvin/galaxy/8141-12701/  \n",
              "2   https://dr15.sdss.org/marvin/galaxy/8567-6101/  "
            ],
            "text/html": [
              "<div>\n",
              "<style scoped>\n",
              "    .dataframe tbody tr th:only-of-type {\n",
              "        vertical-align: middle;\n",
              "    }\n",
              "\n",
              "    .dataframe tbody tr th {\n",
              "        vertical-align: top;\n",
              "    }\n",
              "\n",
              "    .dataframe thead th {\n",
              "        text-align: right;\n",
              "    }\n",
              "</style>\n",
              "<table border=\"1\" class=\"dataframe\">\n",
              "  <thead>\n",
              "    <tr style=\"text-align: right;\">\n",
              "      <th></th>\n",
              "      <th>Plate IFU</th>\n",
              "      <th>ra</th>\n",
              "      <th>dec</th>\n",
              "      <th>Marvin URL</th>\n",
              "    </tr>\n",
              "  </thead>\n",
              "  <tbody>\n",
              "    <tr>\n",
              "      <th>0</th>\n",
              "      <td>8137-12703</td>\n",
              "      <td>116.16926</td>\n",
              "      <td>44.144409</td>\n",
              "      <td>https://dr15.sdss.org/marvin/galaxy/8137-12703/</td>\n",
              "    </tr>\n",
              "    <tr>\n",
              "      <th>1</th>\n",
              "      <td>8141-12701</td>\n",
              "      <td>116.73264</td>\n",
              "      <td>44.265699</td>\n",
              "      <td>https://dr15.sdss.org/marvin/galaxy/8141-12701/</td>\n",
              "    </tr>\n",
              "    <tr>\n",
              "      <th>2</th>\n",
              "      <td>8567-6101</td>\n",
              "      <td>119.14512</td>\n",
              "      <td>47.563851</td>\n",
              "      <td>https://dr15.sdss.org/marvin/galaxy/8567-6101/</td>\n",
              "    </tr>\n",
              "  </tbody>\n",
              "</table>\n",
              "</div>"
            ]
          },
          "metadata": {}
        }
      ],
      "execution_count": 4,
      "metadata": {
        "collapsed": false,
        "outputHidden": false,
        "inputHidden": true
      }
    },
    {
      "cell_type": "code",
      "source": [
        "mwa_coords = SkyCoord(\n",
        "    ra=mwa_df['ra'].values * u.degree,\n",
        "    dec=mwa_df['dec'].values * u.degree,\n",
        ")"
      ],
      "outputs": [],
      "execution_count": 5,
      "metadata": {
        "collapsed": false,
        "outputHidden": false,
        "inputHidden": false
      }
    },
    {
      "cell_type": "markdown",
      "source": [
        "We'll load in the NSA catalog for cross-matching"
      ],
      "metadata": {
        "collapsed": false,
        "outputHidden": false,
        "inputHidden": false
      }
    },
    {
      "cell_type": "code",
      "source": [
        "nsa_cat = fits.open('../source_files/nsa_v1_0_1.fits')"
      ],
      "outputs": [],
      "execution_count": 6,
      "metadata": {
        "collapsed": false,
        "outputHidden": false,
        "inputHidden": false
      }
    },
    {
      "cell_type": "markdown",
      "source": [
        "And use `astropy` to match based on sky position (with a search radius of 36\")"
      ],
      "metadata": {
        "collapsed": false,
        "outputHidden": false,
        "inputHidden": false
      }
    },
    {
      "cell_type": "code",
      "source": [
        "nsa_coords = SkyCoord(\n",
        "    ra=nsa_cat[1].data['RA'] * u.degree,\n",
        "    dec=nsa_cat[1].data['DEC'] * u.degree,\n",
        ")\n",
        "jsFull, sep2d, d3d = match_coordinates_sky(mwa_coords, nsa_coords)\n",
        "jsMask = np.logical_not(sep2d > 0.01*u.degree)\n",
        "js = jsFull[jsMask]"
      ],
      "outputs": [],
      "execution_count": 7,
      "metadata": {
        "collapsed": false,
        "outputHidden": false,
        "inputHidden": false
      }
    },
    {
      "cell_type": "code",
      "source": [
        "keys = (\n",
        "    'RA', 'DEC', 'Z', 'ZDIST',\n",
        "    'ISDSS', 'INED', 'NSAID', 'IAUNAME',\n",
        "    'RUN', 'CAMCOL', 'FIELD', 'RERUN',\n",
        "    'PETRO_THETA', 'SERSIC_BA',\n",
        ")\n",
        "nsa_match = pd.DataFrame(\n",
        "    {k: nsa_cat[1].data[jsFull][k] for k in keys}\n",
        ").rename(columns={\n",
        "    'RA': 'ra', 'DEC': 'dec', 'Z': 'z',\n",
        "    'ISDSS': 'dr7objid', 'PETRO_THETA': 'petrotheta',\n",
        "})\n",
        "nsa_match.head()"
      ],
      "outputs": [
        {
          "output_type": "execute_result",
          "execution_count": 8,
          "data": {
            "text/plain": [
              "           ra        dec         z     ZDIST  dr7objid   INED   NSAID  \\\n",
              "0  116.169257  44.144409  0.038287  0.038538    363870  49353  358532   \n",
              "1  116.732642  44.265699  0.031231  0.031481    363844  49652  358506   \n",
              "2  119.145124  47.563851  0.069156  0.069443    377430     -1  372092   \n",
              "3  121.129595  40.206045  0.040257  0.040417     79044  52785   76547   \n",
              "4  122.522873  46.193025  0.031603  0.031851     47980  53716   47513   \n",
              "\n",
              "               IAUNAME   RUN  CAMCOL  FIELD RERUN  petrotheta  SERSIC_BA  \n",
              "0  J074440.61+440839.8  4204       3     74   301   17.100700   0.659336  \n",
              "1  J074655.82+441556.5  1402       6     82   301   15.874659   0.347331  \n",
              "2  J075634.82+473349.8  4204       3    101   301   13.001850   0.646143  \n",
              "3  J080431.10+401221.7  2076       3    111   301   23.426533   0.770208  \n",
              "4  J081005.48+461134.8  1331       6    134   301   27.340874   0.815644  "
            ],
            "text/html": [
              "<div>\n",
              "<style scoped>\n",
              "    .dataframe tbody tr th:only-of-type {\n",
              "        vertical-align: middle;\n",
              "    }\n",
              "\n",
              "    .dataframe tbody tr th {\n",
              "        vertical-align: top;\n",
              "    }\n",
              "\n",
              "    .dataframe thead th {\n",
              "        text-align: right;\n",
              "    }\n",
              "</style>\n",
              "<table border=\"1\" class=\"dataframe\">\n",
              "  <thead>\n",
              "    <tr style=\"text-align: right;\">\n",
              "      <th></th>\n",
              "      <th>ra</th>\n",
              "      <th>dec</th>\n",
              "      <th>z</th>\n",
              "      <th>ZDIST</th>\n",
              "      <th>dr7objid</th>\n",
              "      <th>INED</th>\n",
              "      <th>NSAID</th>\n",
              "      <th>IAUNAME</th>\n",
              "      <th>RUN</th>\n",
              "      <th>CAMCOL</th>\n",
              "      <th>FIELD</th>\n",
              "      <th>RERUN</th>\n",
              "      <th>petrotheta</th>\n",
              "      <th>SERSIC_BA</th>\n",
              "    </tr>\n",
              "  </thead>\n",
              "  <tbody>\n",
              "    <tr>\n",
              "      <th>0</th>\n",
              "      <td>116.169257</td>\n",
              "      <td>44.144409</td>\n",
              "      <td>0.038287</td>\n",
              "      <td>0.038538</td>\n",
              "      <td>363870</td>\n",
              "      <td>49353</td>\n",
              "      <td>358532</td>\n",
              "      <td>J074440.61+440839.8</td>\n",
              "      <td>4204</td>\n",
              "      <td>3</td>\n",
              "      <td>74</td>\n",
              "      <td>301</td>\n",
              "      <td>17.100700</td>\n",
              "      <td>0.659336</td>\n",
              "    </tr>\n",
              "    <tr>\n",
              "      <th>1</th>\n",
              "      <td>116.732642</td>\n",
              "      <td>44.265699</td>\n",
              "      <td>0.031231</td>\n",
              "      <td>0.031481</td>\n",
              "      <td>363844</td>\n",
              "      <td>49652</td>\n",
              "      <td>358506</td>\n",
              "      <td>J074655.82+441556.5</td>\n",
              "      <td>1402</td>\n",
              "      <td>6</td>\n",
              "      <td>82</td>\n",
              "      <td>301</td>\n",
              "      <td>15.874659</td>\n",
              "      <td>0.347331</td>\n",
              "    </tr>\n",
              "    <tr>\n",
              "      <th>2</th>\n",
              "      <td>119.145124</td>\n",
              "      <td>47.563851</td>\n",
              "      <td>0.069156</td>\n",
              "      <td>0.069443</td>\n",
              "      <td>377430</td>\n",
              "      <td>-1</td>\n",
              "      <td>372092</td>\n",
              "      <td>J075634.82+473349.8</td>\n",
              "      <td>4204</td>\n",
              "      <td>3</td>\n",
              "      <td>101</td>\n",
              "      <td>301</td>\n",
              "      <td>13.001850</td>\n",
              "      <td>0.646143</td>\n",
              "    </tr>\n",
              "    <tr>\n",
              "      <th>3</th>\n",
              "      <td>121.129595</td>\n",
              "      <td>40.206045</td>\n",
              "      <td>0.040257</td>\n",
              "      <td>0.040417</td>\n",
              "      <td>79044</td>\n",
              "      <td>52785</td>\n",
              "      <td>76547</td>\n",
              "      <td>J080431.10+401221.7</td>\n",
              "      <td>2076</td>\n",
              "      <td>3</td>\n",
              "      <td>111</td>\n",
              "      <td>301</td>\n",
              "      <td>23.426533</td>\n",
              "      <td>0.770208</td>\n",
              "    </tr>\n",
              "    <tr>\n",
              "      <th>4</th>\n",
              "      <td>122.522873</td>\n",
              "      <td>46.193025</td>\n",
              "      <td>0.031603</td>\n",
              "      <td>0.031851</td>\n",
              "      <td>47980</td>\n",
              "      <td>53716</td>\n",
              "      <td>47513</td>\n",
              "      <td>J081005.48+461134.8</td>\n",
              "      <td>1331</td>\n",
              "      <td>6</td>\n",
              "      <td>134</td>\n",
              "      <td>301</td>\n",
              "      <td>27.340874</td>\n",
              "      <td>0.815644</td>\n",
              "    </tr>\n",
              "  </tbody>\n",
              "</table>\n",
              "</div>"
            ]
          },
          "metadata": {}
        }
      ],
      "execution_count": 8,
      "metadata": {
        "collapsed": false,
        "outputHidden": false,
        "inputHidden": false
      }
    },
    {
      "cell_type": "markdown",
      "source": [
        "We'll load the GZ2 catalog and cross match too"
      ],
      "metadata": {
        "collapsed": false,
        "outputHidden": false,
        "inputHidden": false
      }
    },
    {
      "cell_type": "code",
      "source": [
        "gz2_cat = fits.open('../source_files/NSA_GalaxyZoo.fits')"
      ],
      "outputs": [],
      "execution_count": 9,
      "metadata": {
        "collapsed": false,
        "outputHidden": false,
        "inputHidden": false
      }
    },
    {
      "cell_type": "code",
      "source": [
        "gz2_coords = SkyCoord(\n",
        "    ra=nsa_cat[1].data['RA'] * u.degree,\n",
        "    dec=nsa_cat[1].data['DEC'] * u.degree,\n",
        ")\n",
        "jsFull, sep2d, d3d = match_coordinates_sky(mwa_coords, nsa_coords)\n",
        "jsMask = np.logical_not(sep2d > 0.01*u.degree)\n",
        "js = jsFull[jsMask]\n",
        "gz2_match = nsa_cat[1].data[jsFull]"
      ],
      "outputs": [],
      "execution_count": 10,
      "metadata": {
        "collapsed": false,
        "outputHidden": false,
        "inputHidden": false
      }
    },
    {
      "cell_type": "markdown",
      "source": [
        "## File creation\n",
        "We need a greyscale image, a model json file and a difference json file for each image. This will be created using `subjectCreator`"
      ],
      "metadata": {
        "collapsed": false,
        "outputHidden": false,
        "inputHidden": false
      }
    },
    {
      "cell_type": "code",
      "source": [
        "shouldCreateFiles = True"
      ],
      "outputs": [],
      "execution_count": 11,
      "metadata": {
        "collapsed": false,
        "outputHidden": false,
        "inputHidden": false
      }
    },
    {
      "cell_type": "code",
      "source": [
        "log.setLevel('ERROR')"
      ],
      "outputs": [],
      "execution_count": 12,
      "metadata": {
        "collapsed": false,
        "outputHidden": false,
        "inputHidden": false
      }
    },
    {
      "cell_type": "code",
      "source": [
        "if shouldCreateFiles:\n",
        "  files, success, err, montageFailures = [], [], [], []\n",
        "  with tqdm(nsa_match.iterrows(), total=len(nsa_match)) as bar:\n",
        "    for i, gal in bar:\n",
        "      extra_meta = {\n",
        "        'Plate IFU': mwa_df.iloc[i]['Plate IFU'],\n",
        "        'Marvin URL': \"[View on Marvin](+tab+{})\".format(\n",
        "          mwa_df.iloc[i]['Marvin URL'],\n",
        "        ),\n",
        "      }\n",
        "      res = subC.pipeline(\n",
        "        gal,\n",
        "        outputFolder='subject_sets/mwa_subject_set',\n",
        "        subjectName='subject{}'.format(i),\n",
        "        extra_metadata=extra_meta,\n",
        "        verbose=False\n",
        "      )\n",
        "      if res:\n",
        "        success += [i]\n",
        "        files += [res]\n",
        "      else:\n",
        "        montageFailures += [i]\n",
        "else:\n",
        "  nSubjects = len([\n",
        "    f for f in os.listdir('subject_sets/mwa_subject_set')\n",
        "    if not '.DS' in f\n",
        "  ])/4\n",
        "  files = [\n",
        "    (\n",
        "      'subject_sets/mwa_subject_set/image_subject{}.png'.format(i),\n",
        "      'subject_sets/mwa_subject_set/model_subject{}.json'.format(i),\n",
        "      'subject_sets/mwa_subject_set/difference_subject{}.json'.format(i),\n",
        "    )\n",
        "    for i in range(nSubjects)\n",
        "  ]\n",
        "  err = []"
      ],
      "outputs": [
        {
          "output_type": "stream",
          "name": "stderr",
          "text": [
            "100%|██████████| 32/32 [07:04<00:00, 15.53s/it]\n"
          ]
        }
      ],
      "execution_count": 13,
      "metadata": {
        "collapsed": false,
        "outputHidden": false,
        "inputHidden": false
      }
    },
    {
      "cell_type": "markdown",
      "source": [
        "Check all the files in our file list exist:"
      ],
      "metadata": {
        "collapsed": false,
        "outputHidden": false,
        "inputHidden": false
      }
    },
    {
      "cell_type": "code",
      "source": [
        "assert all(os.path.exists(j) for i in files for j in i)"
      ],
      "outputs": [],
      "execution_count": 14,
      "metadata": {
        "collapsed": false,
        "outputHidden": false,
        "inputHidden": false
      }
    },
    {
      "cell_type": "code",
      "source": [
        "print('Number of subjects:', len(files))\n",
        "print('Failed subjects:', len(err))"
      ],
      "outputs": [
        {
          "output_type": "stream",
          "name": "stdout",
          "text": [
            "Number of subjects: 32\n",
            "Failed subjects: 0\n"
          ]
        }
      ],
      "execution_count": 15,
      "metadata": {
        "collapsed": false,
        "outputHidden": false,
        "inputHidden": false
      }
    },
    {
      "cell_type": "markdown",
      "source": [
        "Let's have a look at one of the galaxies!"
      ],
      "metadata": {
        "collapsed": false,
        "outputHidden": false,
        "inputHidden": false
      }
    },
    {
      "cell_type": "code",
      "source": [
        "from astropy.visualization import AsinhStretch\n",
        "s_to_view = 'mwa_subject_set/difference_subject{}.json'.format(\n",
        "    np.random.randint(0, len(files))\n",
        ")\n",
        "print(s_to_view)\n",
        "with open(s_to_view) as f:\n",
        "    diffData = json.load(f)\n",
        "im = AsinhStretch()(np.array(diffData['imageData']))\n",
        "plt.figure(figsize=(5, 5))\n",
        "plt.imshow(im, cmap='gray')\n",
        "plt.axis('off');"
      ],
      "outputs": [
        {
          "output_type": "stream",
          "name": "stdout",
          "text": [
            "mwa_subject_set/difference_subject20.json\n"
          ]
        },
        {
          "output_type": "display_data",
          "data": {
            "text/plain": [
              "<Figure size 360x360 with 1 Axes>"
            ],
            "image/png": "[encoded data removed]"
          },
          "metadata": {
            "needs_background": "light"
          }
        }
      ],
      "execution_count": 16,
      "metadata": {
        "collapsed": false,
        "outputHidden": false,
        "inputHidden": false
      }
    },
    {
      "cell_type": "markdown",
      "source": [
        "# Upload to the Zooniverse\n",
        "\n",
        "We've made our subject set, now to send it on its merry way, use \n",
        "\n",
        "`python uploadSubjects.py mwa_subject_set milky_way_analogs`\n",
        "\n",
        "(as an admin)"
      ],
      "metadata": {
        "collapsed": false,
        "outputHidden": false,
        "inputHidden": false
      }
    }
  ],
  "metadata": {
    "kernel_info": {
      "name": "python3"
    },
    "language_info": {
      "name": "python",
      "version": "3.6.7",
      "mimetype": "text/x-python",
      "codemirror_mode": {
        "name": "ipython",
        "version": 3
      },
      "pygments_lexer": "ipython3",
      "nbconvert_exporter": "python",
      "file_extension": ".py"
    },
    "kernelspec": {
      "name": "python3",
      "language": "python",
      "display_name": "Python 3"
    },
    "nteract": {
      "version": "0.15.0"
    }
  },
  "nbformat": 4,
  "nbformat_minor": 4
}